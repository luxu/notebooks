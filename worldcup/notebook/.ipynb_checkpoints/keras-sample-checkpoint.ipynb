{
 "cells": [
  {
   "cell_type": "code",
   "execution_count": 1,
   "metadata": {},
   "outputs": [],
   "source": [
    "import plaidml.keras\n",
    "plaidml.keras.install_backend()"
   ]
  },
  {
   "cell_type": "code",
   "execution_count": 2,
   "metadata": {},
   "outputs": [],
   "source": [
    "import matplotlib.pyplot as plt\n",
    "import seaborn as sns\n",
    "import numpy as np\n",
    "\n",
    "from sklearn.model_selection import train_test_split\n",
    "\n",
    "\n",
    "from keras.models import Sequential\n",
    "from keras.layers.core import Dense, Activation\n",
    "from keras.utils import np_utils\n",
    "from keras.callbacks import EarlyStopping"
   ]
  },
  {
   "cell_type": "code",
   "execution_count": null,
   "metadata": {},
   "outputs": [
    {
     "data": {
      "text/plain": [
       "<seaborn.axisgrid.PairGrid at 0x10d183630>"
      ]
     },
     "execution_count": 3,
     "metadata": {},
     "output_type": "execute_result"
    }
   ],
   "source": [
    "iris = sns.load_dataset(\"iris\")\n",
    "sns.pairplot(iris, hue='species')"
   ]
  },
  {
   "cell_type": "code",
   "execution_count": null,
   "metadata": {},
   "outputs": [],
   "source": [
    "X = np.array(iris.values[:,:4], dtype='f')\n",
    "y = iris.values[:,4]\n",
    "\n",
    "X_train, X_test, y_train, y_test = train_test_split(X, y, random_state=42)\n",
    "\n",
    "print(\"X\\n\", X_train[0:3])\n",
    "y_train[0:3]"
   ]
  },
  {
   "cell_type": "code",
   "execution_count": null,
   "metadata": {},
   "outputs": [],
   "source": [
    "# keras needs inputs to be vectors , so one hot encoding values\n",
    "def one_hot_encode_object_array(arr):\n",
    "    '''One hot encode a numpy array of objects (e.g. strings)'''\n",
    "    uniques, ids = np.unique(arr, return_inverse=True)\n",
    "    return np_utils.to_categorical(ids, len(uniques))\n",
    "\n",
    "y_train_ohe = one_hot_encode_object_array(y_train)\n",
    "y_test_ohe = one_hot_encode_object_array(y_test)\n",
    "\n",
    "y_train_ohe[0:3]"
   ]
  },
  {
   "cell_type": "code",
   "execution_count": 6,
   "metadata": {},
   "outputs": [
    {
     "name": "stdout",
     "output_type": "stream",
     "text": [
      "Epoch 1/100\n",
      "112/112 [==============================] - 0s - loss: 1.1279 - acc: 0.3482     \n",
      "Epoch 2/100\n",
      "112/112 [==============================] - 0s - loss: 1.0363 - acc: 0.2679     \n",
      "Epoch 3/100\n",
      "112/112 [==============================] - 0s - loss: 0.9610 - acc: 0.5982     \n",
      "Epoch 4/100\n",
      "112/112 [==============================] - 0s - loss: 0.8889 - acc: 0.6875     \n",
      "Epoch 5/100\n",
      "112/112 [==============================] - 0s - loss: 0.8247 - acc: 0.7143     \n",
      "Epoch 6/100\n",
      "112/112 [==============================] - 0s - loss: 0.7669 - acc: 0.8036     \n",
      "Epoch 7/100\n",
      "112/112 [==============================] - 0s - loss: 0.7177 - acc: 0.8036     \n",
      "Epoch 8/100\n",
      "112/112 [==============================] - 0s - loss: 0.6800 - acc: 0.8214     \n",
      "Epoch 9/100\n",
      "112/112 [==============================] - 0s - loss: 0.6443 - acc: 0.8839     \n",
      "Epoch 10/100\n",
      "112/112 [==============================] - 0s - loss: 0.6115 - acc: 0.9464     \n",
      "Epoch 11/100\n",
      "112/112 [==============================] - 0s - loss: 0.5880 - acc: 0.9286     \n",
      "Epoch 12/100\n",
      "112/112 [==============================] - 0s - loss: 0.5656 - acc: 0.8482     \n",
      "Epoch 13/100\n",
      "112/112 [==============================] - 0s - loss: 0.5435 - acc: 0.9286     \n",
      "Epoch 14/100\n",
      "112/112 [==============================] - 0s - loss: 0.5239 - acc: 0.8482     \n",
      "Epoch 15/100\n",
      "112/112 [==============================] - 0s - loss: 0.5075 - acc: 0.9732     \n",
      "Epoch 16/100\n",
      "112/112 [==============================] - 0s - loss: 0.4932 - acc: 0.9643     \n",
      "Epoch 17/100\n",
      "112/112 [==============================] - 0s - loss: 0.4800 - acc: 0.9375     \n",
      "Epoch 18/100\n",
      "112/112 [==============================] - 0s - loss: 0.4655 - acc: 0.9732     \n",
      "Epoch 19/100\n",
      "112/112 [==============================] - 0s - loss: 0.4538 - acc: 0.9554     \n",
      "Epoch 20/100\n",
      "112/112 [==============================] - 0s - loss: 0.4395 - acc: 0.9286     \n",
      "Epoch 21/100\n",
      "112/112 [==============================] - 0s - loss: 0.4300 - acc: 0.9643     \n",
      "32/38 [========================>.....] - ETA: 0sAccuracy = 1.00\n",
      "CPU times: user 11.2 s, sys: 4.7 s, total: 15.9 s\n",
      "Wall time: 11.4 s\n"
     ]
    }
   ],
   "source": [
    "%%time \n",
    "\n",
    "model = Sequential()\n",
    "\n",
    "model.add(Dense(16, activation=\"sigmoid\", input_dim=4))\n",
    "model.add(Dense(3, activation=\"softmax\"))\n",
    "\n",
    "model.compile(optimizer=\"adam\", loss=\"categorical_crossentropy\", metrics=[\"accuracy\"])\n",
    "\n",
    "early_stop = EarlyStopping(monitor='acc', patience=5, mode='max')\n",
    "model.fit(X_train, y_train_ohe, epochs=5, batch_size=1, verbose=1, callbacks=[early_stop])\n",
    "\n",
    "loss, accuracy = model.evaluate(X_test, y_test_ohe, verbose=1)\n",
    "\n",
    "print(\"Accuracy = {:.2f}\".format(accuracy))"
   ]
  },
  {
   "cell_type": "code",
   "execution_count": 14,
   "metadata": {},
   "outputs": [
    {
     "data": {
      "text/plain": [
       "array([ 0.72853216,  0.72311713,  0.56834388,  0.84755391,  0.38200402,\n",
       "        0.28489594,  0.29611322,  0.06387816,  0.16465385,  0.48408044,\n",
       "        0.28129563,  0.9086256 ,  0.32969351,  0.93015264,  0.68132068,\n",
       "        0.85221522,  0.98285469,  0.92603884,  0.81723057,  0.67018767,\n",
       "        0.57415692,  0.69287224,  0.94903793,  0.40411796,  0.57035485,\n",
       "        0.65944298,  0.52749403,  0.10060239,  0.99710375,  0.69655547,\n",
       "        0.18784274,  0.01135129,  0.51199487,  0.83016273,  0.95364643,\n",
       "        0.02064702,  0.53323639,  0.40309158,  0.07054542,  0.69980306,\n",
       "        0.37765012,  0.31324881,  0.30714723,  0.881743  ,  0.9859573 ,\n",
       "        0.16119826,  0.4785175 ,  0.83182989,  0.32258568,  0.32344374,\n",
       "        0.04742518,  0.99085488,  0.65483203,  0.98577504,  0.5905634 ,\n",
       "        0.67653254,  0.53926574,  0.26770921,  0.43483272,  0.78839908,\n",
       "        0.86960528,  0.97055161,  0.48674335,  0.70924845,  0.02335883,\n",
       "        0.22195439,  0.06595752,  0.65148608,  0.55275462,  0.20160531,\n",
       "        0.6241641 ,  0.05222022,  0.10157784,  0.75225124,  0.30681861,\n",
       "        0.48355823,  0.83863466,  0.81134075,  0.49972901,  0.11544418,\n",
       "        0.42222067,  0.43509462,  0.76854349,  0.19035358,  0.65037409,\n",
       "        0.63117094,  0.1613518 ,  0.95549397,  0.68420364,  0.36827504,\n",
       "        0.23871209,  0.81884849,  0.5610845 ,  0.24993244,  0.86003764,\n",
       "        0.27093304,  0.9871581 ,  0.67846241,  0.21146017,  0.12662982])"
      ]
     },
     "execution_count": 14,
     "metadata": {},
     "output_type": "execute_result"
    }
   ],
   "source": [
    "np.random.random((1000, 100))[0]"
   ]
  },
  {
   "cell_type": "code",
   "execution_count": null,
   "metadata": {},
   "outputs": [],
   "source": []
  }
 ],
 "metadata": {
  "kernelspec": {
   "display_name": "Python 3",
   "language": "python",
   "name": "python3"
  },
  "language_info": {
   "codemirror_mode": {
    "name": "ipython",
    "version": 3
   },
   "file_extension": ".py",
   "mimetype": "text/x-python",
   "name": "python",
   "nbconvert_exporter": "python",
   "pygments_lexer": "ipython3",
   "version": "3.6.5"
  }
 },
 "nbformat": 4,
 "nbformat_minor": 2
}
