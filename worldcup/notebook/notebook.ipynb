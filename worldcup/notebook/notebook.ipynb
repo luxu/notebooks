{
 "cells": [
  {
   "cell_type": "markdown",
   "metadata": {
    "_uuid": "3cb3f3c5c27def83d011f2de99c8cdb79a1b7b45"
   },
   "source": [
    "Fork from https://www.kaggle.com/agostontorok/soccer-world-cup-2018-winner/notebook\n",
    "\n",
    "# Predicting the winner of the 2018 FIFA World Cup\n",
    "**Aim**: \n",
    "to predict the outcome of the FIFA World Cup 2018\n",
    "\n",
    " **Method**:\n",
    "- Use data from Kaggle to model the outcome of certain pairings between teams, given their rank, points, and the weighted point difference with the opponent.\n",
    "- Use this model to predict the outcome of the group rounds and then the single-elimination phase\n",
    "\n",
    "**Summary**\n",
    "According to the analysis below, the team that will win the World Cup is the [underdog according to the bookies](https://www.oddschecker.com/football/world-cup/winner): Germany . But this is not the only interesting thing you can observe. If [not interested in the data munging part](https://ih1.redbubble.net/image.441592463.7099/sticker,375x360-bg,ffffff.u1.png) head to the last section (Visualization) and see the single-elimination phase. To make the story more interesting for the sport lovers, I report fair odds (i.e. fair market, without bookmaker margin) instead of the raw probability output. \n",
    "\n",
    "Couple things to note, \n",
    "- it seems Egypt qualifies to the best 16 and their match with Portugal is the safest bet in the phase. \n",
    "- In this simulation, Brasil cannot make it through Belgium.. I'm sure here many would consider otherwise\n",
    "- It seems that neither CRonaldo (POR) nor LMessi (ARG) is going to play in the final but they are going to play against each other in the quarterfinals...\n",
    "\n",
    "All in all, I'm looking forward to the tournament! Place your bets and get ready you too! \n",
    "\n",
    "Cheers!"
   ]
  },
  {
   "cell_type": "markdown",
   "metadata": {
    "_uuid": "55d7132bf01a6553a087fd6ce7aad6be3553e4f5"
   },
   "source": [
    "# Data I/O\n",
    "\n",
    "I use three datasets\n",
    "- FIFA rankings from 1993 to 2018 (courtesy of [Tadhg Fitzgerald](https://www.kaggle.com/tadhgfitzgerald) \n",
    "> This one I used to get the FIFA ranking and points for the teams, which is a monthly changing rank previously shown as a [decent predictor](http://www.sportingintelligence.com/2014/06/20/upsets-giant-killings-adios-bye-bye-fifa-rankings-still-ahead-in-predicting-results-200601/) of team performance\n",
    "- International Soccer matches from 1872 to 2018 (courtesy of [Mart Jürisoo](https://www.kaggle.com/martj42))\n",
    "> This I will use to find out how much the difference in point, ranks and the current rank of the team affects the outocme of a match\n",
    "- FIFA World Cup 2018 data set (courtesy of [Nuggs](https://www.kaggle.com/ahmedelnaggar))\n",
    "> This I will use to get the upcoming matches \n",
    "\n",
    "Comment: Right when reading the datafiles I take care of the renaming of the Countries because there is some mismatch in the sources"
   ]
  },
  {
   "cell_type": "code",
   "execution_count": 1,
   "metadata": {
    "_cell_guid": "b1076dfc-b9ad-4769-8c92-a6c4dae69d19",
    "_uuid": "8f2839f25d086af736a60e9eeb907d3b93b6e0e5"
   },
   "outputs": [],
   "source": [
    "import numpy as np # linear algebra\n",
    "import pandas as pd # data processing, CSV file I/O (e.g. pd.read_csv)\n",
    "from matplotlib import pyplot as plt\n",
    "\n",
    "rankings = pd.read_csv('../input/fifa_ranking.csv')\n",
    "rankings = rankings.loc[:,['rank', 'country_full', 'country_abrv', 'cur_year_avg_weighted', 'rank_date', \n",
    "                           'two_year_ago_weighted', 'three_year_ago_weighted']]\n",
    "rankings = rankings.replace({\"IR Iran\": \"Iran\"})\n",
    "rankings['weighted_points'] =  rankings['cur_year_avg_weighted'] + rankings['two_year_ago_weighted'] + rankings['three_year_ago_weighted']\n",
    "rankings['rank_date'] = pd.to_datetime(rankings['rank_date'])\n",
    "\n",
    "matches = pd.read_csv('../input/results.csv')\n",
    "matches =  matches.replace({'Germany DR': 'Germany', 'China': 'China PR'})\n",
    "matches['date'] = pd.to_datetime(matches['date'])\n",
    "\n",
    "world_cup = pd.read_csv('../input/World Cup 2018 Dataset.csv')\n",
    "world_cup = world_cup.loc[:, ['Team', 'Group', 'First match \\nagainst', 'Second match\\n against', 'Third match\\n against']]\n",
    "world_cup = world_cup.dropna(how='all')\n",
    "world_cup = world_cup.replace({\"IRAN\": \"Iran\", \n",
    "                               \"Costarica\": \"Costa Rica\", \n",
    "                               \"Porugal\": \"Portugal\", \n",
    "                               \"Columbia\": \"Colombia\", \n",
    "                               \"Korea\" : \"Korea Republic\"})\n",
    "world_cup = world_cup.set_index('Team')\n",
    "\n",
    "temperatures = pd.read_csv('../input/GlobalLandTemperaturesByCountry.csv')\n",
    "temperatures = temperatures[(temperatures['dt'] > '1900-01-01')]\n",
    "temperatures = temperatures[['AverageTemperature', 'Country']]\n",
    "temperatures = temperatures.groupby('Country').mean().reset_index()"
   ]
  },
  {
   "cell_type": "code",
   "execution_count": 2,
   "metadata": {},
   "outputs": [
    {
     "data": {
      "text/html": [
       "<div>\n",
       "<style>\n",
       "    .dataframe thead tr:only-child th {\n",
       "        text-align: right;\n",
       "    }\n",
       "\n",
       "    .dataframe thead th {\n",
       "        text-align: left;\n",
       "    }\n",
       "\n",
       "    .dataframe tbody tr th {\n",
       "        vertical-align: top;\n",
       "    }\n",
       "</style>\n",
       "<table border=\"1\" class=\"dataframe\">\n",
       "  <thead>\n",
       "    <tr style=\"text-align: right;\">\n",
       "      <th></th>\n",
       "      <th>Country</th>\n",
       "      <th>AverageTemperature</th>\n",
       "    </tr>\n",
       "  </thead>\n",
       "  <tbody>\n",
       "    <tr>\n",
       "      <th>240</th>\n",
       "      <td>Zambia</td>\n",
       "      <td>21.399332</td>\n",
       "    </tr>\n",
       "    <tr>\n",
       "      <th>241</th>\n",
       "      <td>Zimbabwe</td>\n",
       "      <td>21.246273</td>\n",
       "    </tr>\n",
       "    <tr>\n",
       "      <th>242</th>\n",
       "      <td>Åland</td>\n",
       "      <td>5.667528</td>\n",
       "    </tr>\n",
       "    <tr>\n",
       "      <th>243</th>\n",
       "      <td>England</td>\n",
       "      <td>8.773494</td>\n",
       "    </tr>\n",
       "    <tr>\n",
       "      <th>244</th>\n",
       "      <td>Korea Republic</td>\n",
       "      <td>12.071817</td>\n",
       "    </tr>\n",
       "  </tbody>\n",
       "</table>\n",
       "</div>"
      ],
      "text/plain": [
       "            Country  AverageTemperature\n",
       "240          Zambia           21.399332\n",
       "241        Zimbabwe           21.246273\n",
       "242           Åland            5.667528\n",
       "243         England            8.773494\n",
       "244  Korea Republic           12.071817"
      ]
     },
     "execution_count": 2,
     "metadata": {},
     "output_type": "execute_result"
    }
   ],
   "source": [
    "temperatures = temperatures.append({'Country': 'England',\n",
    "                                    'AverageTemperature': temperatures[temperatures['Country'] == 'United Kingdom']['AverageTemperature'].values[0]\n",
    "                                   }, ignore_index=True)\n",
    "temperatures = temperatures.append({'Country': 'Korea Republic',\n",
    "                                    'AverageTemperature': temperatures[temperatures['Country'] == 'South Korea']['AverageTemperature'].values[0]\n",
    "                                   }, ignore_index=True)\n",
    "temperatures.tail()"
   ]
  },
  {
   "cell_type": "code",
   "execution_count": 3,
   "metadata": {},
   "outputs": [
    {
     "data": {
      "text/html": [
       "<div>\n",
       "<style>\n",
       "    .dataframe thead tr:only-child th {\n",
       "        text-align: right;\n",
       "    }\n",
       "\n",
       "    .dataframe thead th {\n",
       "        text-align: left;\n",
       "    }\n",
       "\n",
       "    .dataframe tbody tr th {\n",
       "        vertical-align: top;\n",
       "    }\n",
       "</style>\n",
       "<table border=\"1\" class=\"dataframe\">\n",
       "  <thead>\n",
       "    <tr style=\"text-align: right;\">\n",
       "      <th></th>\n",
       "      <th>rank</th>\n",
       "      <th>country_full</th>\n",
       "      <th>country_abrv</th>\n",
       "      <th>cur_year_avg_weighted</th>\n",
       "      <th>rank_date</th>\n",
       "      <th>two_year_ago_weighted</th>\n",
       "      <th>three_year_ago_weighted</th>\n",
       "      <th>weighted_points</th>\n",
       "    </tr>\n",
       "  </thead>\n",
       "  <tbody>\n",
       "    <tr>\n",
       "      <th>0</th>\n",
       "      <td>1</td>\n",
       "      <td>Germany</td>\n",
       "      <td>GER</td>\n",
       "      <td>0.0</td>\n",
       "      <td>1993-08-08</td>\n",
       "      <td>0.0</td>\n",
       "      <td>0.0</td>\n",
       "      <td>0.0</td>\n",
       "    </tr>\n",
       "    <tr>\n",
       "      <th>1</th>\n",
       "      <td>2</td>\n",
       "      <td>Italy</td>\n",
       "      <td>ITA</td>\n",
       "      <td>0.0</td>\n",
       "      <td>1993-08-08</td>\n",
       "      <td>0.0</td>\n",
       "      <td>0.0</td>\n",
       "      <td>0.0</td>\n",
       "    </tr>\n",
       "    <tr>\n",
       "      <th>2</th>\n",
       "      <td>3</td>\n",
       "      <td>Switzerland</td>\n",
       "      <td>SUI</td>\n",
       "      <td>0.0</td>\n",
       "      <td>1993-08-08</td>\n",
       "      <td>0.0</td>\n",
       "      <td>0.0</td>\n",
       "      <td>0.0</td>\n",
       "    </tr>\n",
       "    <tr>\n",
       "      <th>3</th>\n",
       "      <td>4</td>\n",
       "      <td>Sweden</td>\n",
       "      <td>SWE</td>\n",
       "      <td>0.0</td>\n",
       "      <td>1993-08-08</td>\n",
       "      <td>0.0</td>\n",
       "      <td>0.0</td>\n",
       "      <td>0.0</td>\n",
       "    </tr>\n",
       "    <tr>\n",
       "      <th>4</th>\n",
       "      <td>5</td>\n",
       "      <td>Argentina</td>\n",
       "      <td>ARG</td>\n",
       "      <td>0.0</td>\n",
       "      <td>1993-08-08</td>\n",
       "      <td>0.0</td>\n",
       "      <td>0.0</td>\n",
       "      <td>0.0</td>\n",
       "    </tr>\n",
       "  </tbody>\n",
       "</table>\n",
       "</div>"
      ],
      "text/plain": [
       "   rank country_full country_abrv  cur_year_avg_weighted  rank_date  \\\n",
       "0     1      Germany          GER                    0.0 1993-08-08   \n",
       "1     2        Italy          ITA                    0.0 1993-08-08   \n",
       "2     3  Switzerland          SUI                    0.0 1993-08-08   \n",
       "3     4       Sweden          SWE                    0.0 1993-08-08   \n",
       "4     5    Argentina          ARG                    0.0 1993-08-08   \n",
       "\n",
       "   two_year_ago_weighted  three_year_ago_weighted  weighted_points  \n",
       "0                    0.0                      0.0              0.0  \n",
       "1                    0.0                      0.0              0.0  \n",
       "2                    0.0                      0.0              0.0  \n",
       "3                    0.0                      0.0              0.0  \n",
       "4                    0.0                      0.0              0.0  "
      ]
     },
     "execution_count": 3,
     "metadata": {},
     "output_type": "execute_result"
    }
   ],
   "source": [
    "rankings.head()"
   ]
  },
  {
   "cell_type": "code",
   "execution_count": 4,
   "metadata": {},
   "outputs": [
    {
     "data": {
      "text/html": [
       "<div>\n",
       "<style>\n",
       "    .dataframe thead tr:only-child th {\n",
       "        text-align: right;\n",
       "    }\n",
       "\n",
       "    .dataframe thead th {\n",
       "        text-align: left;\n",
       "    }\n",
       "\n",
       "    .dataframe tbody tr th {\n",
       "        vertical-align: top;\n",
       "    }\n",
       "</style>\n",
       "<table border=\"1\" class=\"dataframe\">\n",
       "  <thead>\n",
       "    <tr style=\"text-align: right;\">\n",
       "      <th></th>\n",
       "      <th>date</th>\n",
       "      <th>home_team</th>\n",
       "      <th>away_team</th>\n",
       "      <th>home_score</th>\n",
       "      <th>away_score</th>\n",
       "      <th>tournament</th>\n",
       "      <th>city</th>\n",
       "      <th>country</th>\n",
       "      <th>neutral</th>\n",
       "    </tr>\n",
       "  </thead>\n",
       "  <tbody>\n",
       "    <tr>\n",
       "      <th>0</th>\n",
       "      <td>1872-11-30</td>\n",
       "      <td>Scotland</td>\n",
       "      <td>England</td>\n",
       "      <td>0</td>\n",
       "      <td>0</td>\n",
       "      <td>Friendly</td>\n",
       "      <td>Glasgow</td>\n",
       "      <td>Scotland</td>\n",
       "      <td>False</td>\n",
       "    </tr>\n",
       "    <tr>\n",
       "      <th>1</th>\n",
       "      <td>1873-03-08</td>\n",
       "      <td>England</td>\n",
       "      <td>Scotland</td>\n",
       "      <td>4</td>\n",
       "      <td>2</td>\n",
       "      <td>Friendly</td>\n",
       "      <td>London</td>\n",
       "      <td>England</td>\n",
       "      <td>False</td>\n",
       "    </tr>\n",
       "    <tr>\n",
       "      <th>2</th>\n",
       "      <td>1874-03-07</td>\n",
       "      <td>Scotland</td>\n",
       "      <td>England</td>\n",
       "      <td>2</td>\n",
       "      <td>1</td>\n",
       "      <td>Friendly</td>\n",
       "      <td>Glasgow</td>\n",
       "      <td>Scotland</td>\n",
       "      <td>False</td>\n",
       "    </tr>\n",
       "    <tr>\n",
       "      <th>3</th>\n",
       "      <td>1875-03-06</td>\n",
       "      <td>England</td>\n",
       "      <td>Scotland</td>\n",
       "      <td>2</td>\n",
       "      <td>2</td>\n",
       "      <td>Friendly</td>\n",
       "      <td>London</td>\n",
       "      <td>England</td>\n",
       "      <td>False</td>\n",
       "    </tr>\n",
       "    <tr>\n",
       "      <th>4</th>\n",
       "      <td>1876-03-04</td>\n",
       "      <td>Scotland</td>\n",
       "      <td>England</td>\n",
       "      <td>3</td>\n",
       "      <td>0</td>\n",
       "      <td>Friendly</td>\n",
       "      <td>Glasgow</td>\n",
       "      <td>Scotland</td>\n",
       "      <td>False</td>\n",
       "    </tr>\n",
       "  </tbody>\n",
       "</table>\n",
       "</div>"
      ],
      "text/plain": [
       "        date home_team away_team  home_score  away_score tournament     city  \\\n",
       "0 1872-11-30  Scotland   England           0           0   Friendly  Glasgow   \n",
       "1 1873-03-08   England  Scotland           4           2   Friendly   London   \n",
       "2 1874-03-07  Scotland   England           2           1   Friendly  Glasgow   \n",
       "3 1875-03-06   England  Scotland           2           2   Friendly   London   \n",
       "4 1876-03-04  Scotland   England           3           0   Friendly  Glasgow   \n",
       "\n",
       "    country  neutral  \n",
       "0  Scotland    False  \n",
       "1   England    False  \n",
       "2  Scotland    False  \n",
       "3   England    False  \n",
       "4  Scotland    False  "
      ]
     },
     "execution_count": 4,
     "metadata": {},
     "output_type": "execute_result"
    }
   ],
   "source": [
    "matches.head()"
   ]
  },
  {
   "cell_type": "code",
   "execution_count": 5,
   "metadata": {},
   "outputs": [
    {
     "data": {
      "text/html": [
       "<div>\n",
       "<style>\n",
       "    .dataframe thead tr:only-child th {\n",
       "        text-align: right;\n",
       "    }\n",
       "\n",
       "    .dataframe thead th {\n",
       "        text-align: left;\n",
       "    }\n",
       "\n",
       "    .dataframe tbody tr th {\n",
       "        vertical-align: top;\n",
       "    }\n",
       "</style>\n",
       "<table border=\"1\" class=\"dataframe\">\n",
       "  <thead>\n",
       "    <tr style=\"text-align: right;\">\n",
       "      <th></th>\n",
       "      <th>Group</th>\n",
       "      <th>First match \n",
       "against</th>\n",
       "      <th>Second match\n",
       " against</th>\n",
       "      <th>Third match\n",
       " against</th>\n",
       "    </tr>\n",
       "    <tr>\n",
       "      <th>Team</th>\n",
       "      <th></th>\n",
       "      <th></th>\n",
       "      <th></th>\n",
       "      <th></th>\n",
       "    </tr>\n",
       "  </thead>\n",
       "  <tbody>\n",
       "    <tr>\n",
       "      <th>Russia</th>\n",
       "      <td>A</td>\n",
       "      <td>Saudi Arabia</td>\n",
       "      <td>Egypt</td>\n",
       "      <td>Uruguay</td>\n",
       "    </tr>\n",
       "    <tr>\n",
       "      <th>Saudi Arabia</th>\n",
       "      <td>A</td>\n",
       "      <td>Russia</td>\n",
       "      <td>Uruguay</td>\n",
       "      <td>Egypt</td>\n",
       "    </tr>\n",
       "    <tr>\n",
       "      <th>Egypt</th>\n",
       "      <td>A</td>\n",
       "      <td>Uruguay</td>\n",
       "      <td>Russia</td>\n",
       "      <td>Saudi Arabia</td>\n",
       "    </tr>\n",
       "    <tr>\n",
       "      <th>Uruguay</th>\n",
       "      <td>A</td>\n",
       "      <td>Egypt</td>\n",
       "      <td>Saudi Arabia</td>\n",
       "      <td>Russia</td>\n",
       "    </tr>\n",
       "    <tr>\n",
       "      <th>Portugal</th>\n",
       "      <td>B</td>\n",
       "      <td>Spain</td>\n",
       "      <td>Morocco</td>\n",
       "      <td>Iran</td>\n",
       "    </tr>\n",
       "  </tbody>\n",
       "</table>\n",
       "</div>"
      ],
      "text/plain": [
       "             Group First match \\nagainst Second match\\n against  \\\n",
       "Team                                                              \n",
       "Russia           A          Saudi Arabia                  Egypt   \n",
       "Saudi Arabia     A                Russia                Uruguay   \n",
       "Egypt            A               Uruguay                 Russia   \n",
       "Uruguay          A                 Egypt           Saudi Arabia   \n",
       "Portugal         B                 Spain                Morocco   \n",
       "\n",
       "             Third match\\n against  \n",
       "Team                                \n",
       "Russia                     Uruguay  \n",
       "Saudi Arabia                 Egypt  \n",
       "Egypt                 Saudi Arabia  \n",
       "Uruguay                     Russia  \n",
       "Portugal                      Iran  "
      ]
     },
     "execution_count": 5,
     "metadata": {},
     "output_type": "execute_result"
    }
   ],
   "source": [
    "world_cup.head()"
   ]
  },
  {
   "cell_type": "markdown",
   "metadata": {
    "_uuid": "a34c1cd5a26c1024b0638d2d93fc0c691b290024"
   },
   "source": [
    "# Feature extraction\n",
    "\n",
    "I join the matches with the ranks of the different teams. \n",
    "\n",
    "Then extract some features:\n",
    "- point and rank differences\n",
    "- if the game was for some stakes, because my naive view was that typically friendly matches are harder to predict (TODO differentiate the WC matches from the rest)\n",
    "- how many days the different teams were able to rest but this turned out to be not important enough to be worth the hassle\n",
    "- include the participant countries as a one hot vector but that did not appear to be a strong predictor either"
   ]
  },
  {
   "cell_type": "code",
   "execution_count": 6,
   "metadata": {
    "_uuid": "863552790217b049b611165e162ad3182f1692f9"
   },
   "outputs": [],
   "source": [
    "# I want to have the ranks for every day \n",
    "rankings = rankings.set_index(['rank_date'])\\\n",
    "            .groupby(['country_full'], group_keys=False)\\\n",
    "            .resample('D').first()\\\n",
    "            .fillna(method='ffill')\\\n",
    "            .reset_index()\n",
    "\n",
    "# join the ranks\n",
    "matches = matches.merge(rankings, \n",
    "                        left_on=['date', 'home_team'], \n",
    "                        right_on=['rank_date', 'country_full'])\n",
    "matches = matches.merge(rankings, \n",
    "                        left_on=['date', 'away_team'], \n",
    "                        right_on=['rank_date', 'country_full'], \n",
    "                        suffixes=('_home', '_away'))"
   ]
  },
  {
   "cell_type": "code",
   "execution_count": 7,
   "metadata": {
    "_uuid": "107fa4816e6db551811abd9fc784c34f1ad63682"
   },
   "outputs": [],
   "source": [
    "# feature generation\n",
    "matches['rank_difference'] = matches['rank_home'] - matches['rank_away']\n",
    "matches['average_rank'] = (matches['rank_home'] + matches['rank_away'])/2\n",
    "matches['point_difference'] = matches['weighted_points_home'] - matches['weighted_points_away']\n",
    "matches['score_difference'] = matches['home_score'] - matches['away_score']\n",
    "matches['is_won'] = matches['score_difference'] > 0 # take draw as lost\n",
    "matches['is_stake'] = (matches['tournament'] != 'Friendly').astype(int)\n",
    "\n",
    "# I tried earlier rest days but it did not turn to be useful\n",
    "max_rest = 30\n",
    "matches['rest_days'] = matches.groupby('home_team').diff()['date'].dt.days.clip(0,max_rest).fillna(max_rest)\n",
    "\n",
    "# I tried earlier the team as well but that did not make a difference either\n",
    "matches['wc_participant'] = matches['home_team'] * matches['home_team'].isin(world_cup.index.tolist())\n",
    "matches['wc_participant'] = matches['wc_participant'].replace({'':'Other'})\n",
    "matches = matches.join(pd.get_dummies(matches['wc_participant']))"
   ]
  },
  {
   "cell_type": "code",
   "execution_count": 8,
   "metadata": {},
   "outputs": [],
   "source": [
    "matches = matches.merge(temperatures,\n",
    "                        left_on=['home_team'],\n",
    "                        right_on=['Country'],\n",
    "                        suffixes=('_country', '_home'))\n",
    "\n",
    "matches = matches.merge(temperatures,\n",
    "                        left_on=['away_team'],\n",
    "                        right_on=['Country'],\n",
    "                        suffixes=('_home', '_away'))\n",
    "\n",
    "matches = matches.merge(temperatures,\n",
    "                        left_on=['country'],\n",
    "                        right_on=['Country'],\n",
    "                        suffixes=('_away', '_country'))\n",
    "\n",
    "matches['temperature_difference_home'] = matches['AverageTemperature'] - matches['AverageTemperature_home']\n",
    "matches['temperature_difference_away'] = matches['AverageTemperature'] - matches['AverageTemperature_away']"
   ]
  },
  {
   "cell_type": "markdown",
   "metadata": {
    "_uuid": "f67d4cba7bc60580490e00507a0811803e12a6e6"
   },
   "source": [
    "# Modeling\n",
    "\n",
    "I used a simple Logistic regression, which yielded already rather good performance"
   ]
  },
  {
   "cell_type": "code",
   "execution_count": 9,
   "metadata": {
    "_uuid": "78e3186d0e783cf2a4cb1a141a8d0ffe9f2b59ba"
   },
   "outputs": [
    {
     "data": {
      "text/html": [
       "<div>\n",
       "<style>\n",
       "    .dataframe thead tr:only-child th {\n",
       "        text-align: right;\n",
       "    }\n",
       "\n",
       "    .dataframe thead th {\n",
       "        text-align: left;\n",
       "    }\n",
       "\n",
       "    .dataframe tbody tr th {\n",
       "        vertical-align: top;\n",
       "    }\n",
       "</style>\n",
       "<table border=\"1\" class=\"dataframe\">\n",
       "  <thead>\n",
       "    <tr style=\"text-align: right;\">\n",
       "      <th></th>\n",
       "      <th>average_rank</th>\n",
       "      <th>rank_difference</th>\n",
       "      <th>point_difference</th>\n",
       "      <th>is_stake</th>\n",
       "      <th>temperature_difference_home</th>\n",
       "      <th>temperature_difference_away</th>\n",
       "    </tr>\n",
       "  </thead>\n",
       "  <tbody>\n",
       "    <tr>\n",
       "      <th>15245</th>\n",
       "      <td>181.5</td>\n",
       "      <td>-41.0</td>\n",
       "      <td>0.00</td>\n",
       "      <td>0</td>\n",
       "      <td>0.0</td>\n",
       "      <td>-0.274392</td>\n",
       "    </tr>\n",
       "    <tr>\n",
       "      <th>15246</th>\n",
       "      <td>181.5</td>\n",
       "      <td>-41.0</td>\n",
       "      <td>0.00</td>\n",
       "      <td>0</td>\n",
       "      <td>0.0</td>\n",
       "      <td>-0.274392</td>\n",
       "    </tr>\n",
       "    <tr>\n",
       "      <th>15247</th>\n",
       "      <td>179.0</td>\n",
       "      <td>-34.0</td>\n",
       "      <td>0.00</td>\n",
       "      <td>0</td>\n",
       "      <td>0.0</td>\n",
       "      <td>-0.274392</td>\n",
       "    </tr>\n",
       "    <tr>\n",
       "      <th>15248</th>\n",
       "      <td>200.5</td>\n",
       "      <td>-3.0</td>\n",
       "      <td>0.00</td>\n",
       "      <td>0</td>\n",
       "      <td>0.0</td>\n",
       "      <td>-0.274392</td>\n",
       "    </tr>\n",
       "    <tr>\n",
       "      <th>15249</th>\n",
       "      <td>165.5</td>\n",
       "      <td>13.0</td>\n",
       "      <td>-26.47</td>\n",
       "      <td>1</td>\n",
       "      <td>0.0</td>\n",
       "      <td>-0.970836</td>\n",
       "    </tr>\n",
       "  </tbody>\n",
       "</table>\n",
       "</div>"
      ],
      "text/plain": [
       "       average_rank  rank_difference  point_difference  is_stake  \\\n",
       "15245         181.5            -41.0              0.00         0   \n",
       "15246         181.5            -41.0              0.00         0   \n",
       "15247         179.0            -34.0              0.00         0   \n",
       "15248         200.5             -3.0              0.00         0   \n",
       "15249         165.5             13.0            -26.47         1   \n",
       "\n",
       "       temperature_difference_home  temperature_difference_away  \n",
       "15245                          0.0                    -0.274392  \n",
       "15246                          0.0                    -0.274392  \n",
       "15247                          0.0                    -0.274392  \n",
       "15248                          0.0                    -0.274392  \n",
       "15249                          0.0                    -0.970836  "
      ]
     },
     "execution_count": 9,
     "metadata": {},
     "output_type": "execute_result"
    }
   ],
   "source": [
    "from sklearn import linear_model\n",
    "from sklearn import ensemble\n",
    "from sklearn.model_selection import train_test_split\n",
    "from sklearn.metrics import confusion_matrix, roc_curve, roc_auc_score, f1_score, accuracy_score\n",
    "from sklearn.pipeline import Pipeline\n",
    "from sklearn.preprocessing import PolynomialFeatures\n",
    "\n",
    "# X, y = matches.loc[:,['rank_home', 'cur_year_avg_weighted_home', 'two_year_ago_weighted_home',\n",
    "#                       'three_year_ago_weighted_home', 'weighted_points_home',\n",
    "#                       'rank_away', 'cur_year_avg_weighted_away', 'two_year_ago_weighted_away',\n",
    "#                       'three_year_ago_weighted_away', 'weighted_points_away',\n",
    "#                       'rest_days', 'is_stake', 'temperature_difference_home', 'temperature_difference_away'\n",
    "#                      ]], matches['is_won']\n",
    "X, y = matches.loc[:,['average_rank', 'rank_difference', 'point_difference',\n",
    "                      'is_stake', 'temperature_difference_home', 'temperature_difference_away'\n",
    "                     ]], matches['is_won']\n",
    "X_train, X_test, y_train, y_test = train_test_split(\n",
    "    X, y, test_size=0.2, random_state=42)\n",
    "\n",
    "X.tail()"
   ]
  },
  {
   "cell_type": "code",
   "execution_count": 10,
   "metadata": {},
   "outputs": [
    {
     "data": {
      "text/plain": [
       "array([[  40.5       ,   37.        ,    0.        ,    1.        ,\n",
       "           0.        ,    3.67053914],\n",
       "       [  42.5       ,  -17.        ,    0.        ,    1.        ,\n",
       "           0.        ,    3.67053914],\n",
       "       [  31.        ,  -26.        ,    0.        ,    1.        ,\n",
       "           0.        ,    3.67053914],\n",
       "       ..., \n",
       "       [ 179.        ,  -34.        ,    0.        ,    0.        ,\n",
       "           0.        ,   -0.27439237],\n",
       "       [ 200.5       ,   -3.        ,    0.        ,    0.        ,\n",
       "           0.        ,   -0.27439237],\n",
       "       [ 165.5       ,   13.        ,  -26.46999931,    1.        ,\n",
       "           0.        ,   -0.97083569]], dtype=float32)"
      ]
     },
     "execution_count": 10,
     "metadata": {},
     "output_type": "execute_result"
    }
   ],
   "source": [
    "def prepare_X_for_keras(X):\n",
    "    X_keras = X.copy()\n",
    "    X_keras = X_keras.values.astype(np.float32, copy=False)\n",
    "    return X_keras\n",
    "\n",
    "X_keras = prepare_X_for_keras(X)\n",
    "X_keras"
   ]
  },
  {
   "cell_type": "code",
   "execution_count": 11,
   "metadata": {
    "scrolled": true
   },
   "outputs": [
    {
     "data": {
      "text/plain": [
       "array([[0, 1],\n",
       "       [0, 1],\n",
       "       [0, 1],\n",
       "       ..., \n",
       "       [0, 1],\n",
       "       [0, 1],\n",
       "       [1, 0]], dtype=uint8)"
      ]
     },
     "execution_count": 11,
     "metadata": {},
     "output_type": "execute_result"
    }
   ],
   "source": [
    "def prepare_y_for_keras(y):\n",
    "    y_keras = y.copy()\n",
    "    y_keras = pd.get_dummies(y_keras).values\n",
    "    \n",
    "    return y_keras\n",
    "\n",
    "y_keras = prepare_y_for_keras(y)\n",
    "y_keras"
   ]
  },
  {
   "cell_type": "code",
   "execution_count": 464,
   "metadata": {},
   "outputs": [],
   "source": [
    "import plaidml.keras\n",
    "plaidml.keras.install_backend()"
   ]
  },
  {
   "cell_type": "code",
   "execution_count": 12,
   "metadata": {},
   "outputs": [
    {
     "name": "stderr",
     "output_type": "stream",
     "text": [
      "Using TensorFlow backend.\n"
     ]
    }
   ],
   "source": [
    "from keras.models import Sequential\n",
    "from keras.layers.core import Dense, Activation, Dropout\n",
    "from keras.utils import np_utils\n",
    "from keras.callbacks import EarlyStopping\n",
    "\n",
    "X_train, X_test, y_train, y_test = train_test_split(\n",
    "    X_keras, y_keras, test_size=0.2, random_state=42)"
   ]
  },
  {
   "cell_type": "code",
   "execution_count": 469,
   "metadata": {},
   "outputs": [
    {
     "name": "stdout",
     "output_type": "stream",
     "text": [
      "Epoch 1/5\n",
      "12200/12200 [==============================] - 63s - loss: 0.6197 - acc: 0.6586    \n",
      "Epoch 2/5\n",
      "12200/12200 [==============================] - 64s - loss: 0.6096 - acc: 0.6668    \n",
      "Epoch 3/5\n",
      "12200/12200 [==============================] - 64s - loss: 0.6053 - acc: 0.6708    \n",
      "Epoch 4/5\n",
      "12200/12200 [==============================] - 63s - loss: 0.6036 - acc: 0.6712    \n",
      "Epoch 5/5\n",
      "12200/12200 [==============================] - 63s - loss: 0.6023 - acc: 0.6748    \n",
      "3008/3050 [============================>.] - ETA: 0sAccuracy = 0.68\n"
     ]
    }
   ],
   "source": [
    "model = Sequential()\n",
    "model.add(Dense(4, activation='relu', input_dim=len(X.columns)))\n",
    "# model.add(Dropout(0.2))\n",
    "# model.add(Dense(512, activation='relu'))\n",
    "# model.add(Dropout(0.2))\n",
    "# model.add(Dense(16, activation=\"tanh\", input_dim=len(X.columns)))\n",
    "model.add(Dense(8, activation=\"sigmoid\"))\n",
    "model.add(Dense(2, activation=\"softmax\"))\n",
    "\n",
    "model.compile(optimizer=\"adam\", loss=\"categorical_crossentropy\", metrics=[\"accuracy\"])\n",
    "\n",
    "early_stop = EarlyStopping(monitor='acc', patience=1, mode='max')\n",
    "model.fit(X_train, y_train, epochs=5, batch_size=1, verbose=1, callbacks=[early_stop])\n",
    "\n",
    "loss, accuracy = model.evaluate(X_test, y_test, verbose=1)\n",
    "\n",
    "print(\"Accuracy = {:.2f}\".format(accuracy))"
   ]
  },
  {
   "cell_type": "code",
   "execution_count": 14,
   "metadata": {},
   "outputs": [
    {
     "data": {
      "text/plain": [
       "<keras.models.Sequential at 0x1159d2208>"
      ]
     },
     "execution_count": 14,
     "metadata": {},
     "output_type": "execute_result"
    }
   ],
   "source": [
    "from keras.models import load_model\n",
    "\n",
    "# model.save('model.h5')\n",
    "\n",
    "model = load_model('model.h5')\n",
    "\n",
    "model"
   ]
  },
  {
   "cell_type": "code",
   "execution_count": 15,
   "metadata": {},
   "outputs": [
    {
     "name": "stdout",
     "output_type": "stream",
     "text": [
      "accuracy 0.675409836066\n",
      "confusion_matrix\n",
      " [[1119  480]\n",
      " [ 510  941]]\n",
      "f1_score 0.655292479109\n"
     ]
    },
    {
     "data": {
      "image/png": "[encoded data removed]",
      "text/plain": [
       "<matplotlib.figure.Figure at 0x1168af908>"
      ]
     },
     "metadata": {},
     "output_type": "display_data"
    }
   ],
   "source": [
    "# figures \n",
    "\n",
    "y_test_ = y_test[:,1]\n",
    "predictions = list(map(round, model.predict(X_test)[:,1]))\n",
    "predictions_proba = model.predict(X_test)[:,1]\n",
    "\n",
    "y_train_ = y_train[:,1]\n",
    "predictions_train = list(map(round, model.predict(X_train)[:,1]))\n",
    "\n",
    "fpr, tpr, _ = roc_curve(y_test_, predictions_proba)\n",
    "plt.figure(figsize=(15,5))\n",
    "ax = plt.subplot(1,3,1)\n",
    "ax.plot([0, 1], [0, 1], 'k--')\n",
    "ax.plot(fpr, tpr)\n",
    "ax.set_title('AUC score is {0:0.2}'.format(roc_auc_score(y_test_, predictions_proba)))\n",
    "ax.set_aspect(1)\n",
    "\n",
    "ax = plt.subplot(1,3,2)\n",
    "cm = confusion_matrix(y_test_, predictions)\n",
    "ax.imshow(cm, cmap='Blues', clim = (0, cm.max())) \n",
    "\n",
    "ax.set_xlabel('Predicted label')\n",
    "ax.set_title('Performance on the Test set')\n",
    "\n",
    "ax = plt.subplot(1,3,3)\n",
    "cm = confusion_matrix(y_train_, predictions_train)\n",
    "ax.imshow(cm, cmap='Blues', clim = (0, cm.max())) \n",
    "ax.set_xlabel('Predicted label')\n",
    "ax.set_title('Performance on the Training set')\n",
    "\n",
    "print(\"accuracy\", accuracy_score(y_test_, predictions))\n",
    "print(\"confusion_matrix\\n\", confusion_matrix(y_test_, predictions))\n",
    "print(\"f1_score\", f1_score(y_test_, predictions))"
   ]
  },
  {
   "cell_type": "markdown",
   "metadata": {
    "_uuid": "4df844d3dda19501acb22ca095f100eed9787263"
   },
   "source": [
    "I consider this pretty good performance, minding that soccer matches have typically only few goals scored and therefore making their outcome even more unpredictable. Nevertheless, let's look at the bad predictions and see where we are making mistakes more often."
   ]
  },
  {
   "cell_type": "code",
   "execution_count": 443,
   "metadata": {
    "_uuid": "f6550496a065d29bade0adbbb5c7662fd7c7fc40"
   },
   "outputs": [
    {
     "ename": "AttributeError",
     "evalue": "'numpy.ndarray' object has no attribute 'loc'",
     "output_type": "error",
     "traceback": [
      "\u001b[0;31m---------------------------------------------------------------------------\u001b[0m",
      "\u001b[0;31mAttributeError\u001b[0m                            Traceback (most recent call last)",
      "\u001b[0;32m<ipython-input-443-18f7bca83241>\u001b[0m in \u001b[0;36m<module>\u001b[0;34m()\u001b[0m\n\u001b[1;32m      5\u001b[0m     \u001b[0mplt\u001b[0m\u001b[0;34m.\u001b[0m\u001b[0mfigure\u001b[0m\u001b[0;34m(\u001b[0m\u001b[0;34m)\u001b[0m\u001b[0;34m\u001b[0m\u001b[0m\n\u001b[1;32m      6\u001b[0m     \u001b[0mplt\u001b[0m\u001b[0;34m.\u001b[0m\u001b[0mtitle\u001b[0m\u001b[0;34m(\u001b[0m\u001b[0mfeature\u001b[0m\u001b[0;34m)\u001b[0m\u001b[0;34m\u001b[0m\u001b[0m\n\u001b[0;32m----> 7\u001b[0;31m     \u001b[0mX_test\u001b[0m\u001b[0;34m.\u001b[0m\u001b[0mloc\u001b[0m\u001b[0;34m[\u001b[0m\u001b[0mwrongs\u001b[0m\u001b[0;34m,\u001b[0m \u001b[0mfeature\u001b[0m\u001b[0;34m]\u001b[0m\u001b[0;34m.\u001b[0m\u001b[0mplot\u001b[0m\u001b[0;34m.\u001b[0m\u001b[0mkde\u001b[0m\u001b[0;34m(\u001b[0m\u001b[0;34m)\u001b[0m\u001b[0;34m\u001b[0m\u001b[0m\n\u001b[0m\u001b[1;32m      8\u001b[0m     \u001b[0mX\u001b[0m\u001b[0;34m.\u001b[0m\u001b[0mloc\u001b[0m\u001b[0;34m[\u001b[0m\u001b[0;34m:\u001b[0m\u001b[0;34m,\u001b[0m \u001b[0mfeature\u001b[0m\u001b[0;34m]\u001b[0m\u001b[0;34m.\u001b[0m\u001b[0mplot\u001b[0m\u001b[0;34m.\u001b[0m\u001b[0mkde\u001b[0m\u001b[0;34m(\u001b[0m\u001b[0;34m)\u001b[0m\u001b[0;34m\u001b[0m\u001b[0m\n\u001b[1;32m      9\u001b[0m     \u001b[0mplt\u001b[0m\u001b[0;34m.\u001b[0m\u001b[0mlegend\u001b[0m\u001b[0;34m(\u001b[0m\u001b[0;34m[\u001b[0m\u001b[0;34m'wrongs'\u001b[0m\u001b[0;34m,\u001b[0m \u001b[0;34m'all'\u001b[0m\u001b[0;34m]\u001b[0m\u001b[0;34m)\u001b[0m\u001b[0;34m\u001b[0m\u001b[0m\n",
      "\u001b[0;31mAttributeError\u001b[0m: 'numpy.ndarray' object has no attribute 'loc'"
     ]
    },
    {
     "data": {
      "image/png": "[encoded data removed]",
      "text/plain": [
       "<matplotlib.figure.Figure at 0x1571596d8>"
      ]
     },
     "metadata": {},
     "output_type": "display_data"
    }
   ],
   "source": [
    "features = ['rank_home', 'rank_difference', 'point_difference']\n",
    "wrongs = y_test != model.predict(X_test)\n",
    "\n",
    "for feature in features:\n",
    "    plt.figure()\n",
    "    plt.title(feature)\n",
    "    X_test.loc[wrongs, feature].plot.kde()\n",
    "    X.loc[:, feature].plot.kde()\n",
    "    plt.legend(['wrongs', 'all'])\n",
    "    \n",
    "print(\"Stakes distribution in the wrong predictions\")\n",
    "print(X_test.loc[wrongs, 'is_stake'].value_counts() / wrongs.sum())\n",
    "print(\"Stakes distribution overall\")\n",
    "print(X['is_stake'].value_counts() / X.shape[0])"
   ]
  },
  {
   "cell_type": "markdown",
   "metadata": {
    "_uuid": "d0ad1a53cac1da95697f1ebfa1c5e7c229f52083"
   },
   "source": [
    "From these figures, we read \n",
    "- we predict worse for closer ranks\n",
    "- lower ranks in general\n",
    "- and somewhat for matches with no stakes (Friendly here)\n",
    "\n",
    "Luckily, this implies that for the world cup our predicitons may be somewhat even better"
   ]
  },
  {
   "cell_type": "markdown",
   "metadata": {
    "_uuid": "479b97e38320c9eba008210903b17951edc84727"
   },
   "source": [
    "# World Cup simulation"
   ]
  },
  {
   "cell_type": "markdown",
   "metadata": {
    "_uuid": "16eae35346f7a015d627801e05d0d408f3091964"
   },
   "source": [
    "## Group rounds"
   ]
  },
  {
   "cell_type": "code",
   "execution_count": 19,
   "metadata": {
    "_uuid": "db455e9096f0a41a0abd512193222f366d42c4c8"
   },
   "outputs": [],
   "source": [
    "# let's define a small margin when we safer to predict draw then win\n",
    "margin = 0.05\n",
    "\n",
    "# let's define the rankings at the time of the World Cup\n",
    "world_cup_rankings = rankings.loc[(rankings['rank_date'] == rankings['rank_date'].max()) & \n",
    "                                    rankings['country_full'].isin(world_cup.index.unique())]\n",
    "world_cup_rankings = world_cup_rankings.set_index(['country_full'])"
   ]
  },
  {
   "cell_type": "code",
   "execution_count": 20,
   "metadata": {},
   "outputs": [
    {
     "data": {
      "text/plain": [
       "-5.1496434336023444"
      ]
     },
     "execution_count": 20,
     "metadata": {},
     "output_type": "execute_result"
    }
   ],
   "source": [
    "russia_temp = temperatures[temperatures['Country'] == 'Russia']['AverageTemperature'].values[0]\n",
    "russia_temp"
   ]
  },
  {
   "cell_type": "code",
   "execution_count": 21,
   "metadata": {},
   "outputs": [
    {
     "data": {
      "text/plain": [
       "{'Russia-Saudi Arabia': 'Russia',\n",
       " 'Egypt-Uruguay': 'Uruguay',\n",
       " 'Morocco-Iran': 'Iran',\n",
       " 'Costa Rica-Serbia': 'Serbia',\n",
       " 'Germany-Mexico': 'Mexico'}"
      ]
     },
     "execution_count": 21,
     "metadata": {},
     "output_type": "execute_result"
    }
   ],
   "source": [
    "# Results the model got wrong and we fix it mannually\n",
    "known_results = {\n",
    "    'Russia-Saudi Arabia': 'Russia',\n",
    "    'Egypt-Uruguay': 'Uruguay',\n",
    "    'Morocco-Iran': 'Iran',\n",
    "    'Costa Rica-Serbia': 'Serbia',\n",
    "    'Germany-Mexico': 'Mexico'\n",
    "}\n",
    "known_results"
   ]
  },
  {
   "cell_type": "code",
   "execution_count": 22,
   "metadata": {
    "_uuid": "fd197611ef601dcc41c59f48f37f66bec6d2d669"
   },
   "outputs": [
    {
     "name": "stdout",
     "output_type": "stream",
     "text": [
      "___Starting group G:___\n",
      "Belgium vs. Panama: Belgium wins with 0.75\n",
      "Belgium vs. Tunisia: Belgium wins with 0.58\n",
      "Belgium vs. England: Draw with 0.471715\n",
      "Panama vs. Tunisia: Tunisia wins with 0.76\n",
      "Panama vs. England: England wins with 0.76\n",
      "Tunisia vs. England: England wins with 0.58\n",
      "___Starting group D:___\n",
      "Argentina vs. Iceland: Draw with 0.532632\n",
      "Argentina vs. Croatia: Draw with 0.523556\n",
      "Argentina vs. Nigeria: Argentina wins with 0.71\n",
      "Iceland vs. Croatia: Draw with 0.46422\n",
      "Iceland vs. Nigeria: Iceland wins with 0.66\n",
      "Croatia vs. Nigeria: Croatia wins with 0.65\n",
      "___Starting group C:___\n",
      "France vs. Australia: France wins with 0.65\n",
      "France vs. Peru: Draw with 0.46422\n",
      "France vs. Denmark: Draw with 0.482078\n",
      "Australia vs. Peru: Peru wins with 0.76\n",
      "Australia vs. Denmark: Denmark wins with 0.76\n",
      "Peru vs. Denmark: Denmark wins with 0.66\n",
      "___Starting group A:___\n",
      "Russia vs. Saudi Arabia: Russia wins with 1.00\n",
      "Russia vs. Egypt: Draw with 0.46422\n",
      "Russia vs. Uruguay: Uruguay wins with 0.76\n",
      "Saudi Arabia vs. Egypt: Draw with 0.534134\n",
      "Saudi Arabia vs. Uruguay: Uruguay wins with 0.76\n",
      "Egypt vs. Uruguay: Uruguay wins with 1.00\n",
      "___Starting group H:___\n",
      "Poland vs. Senegal: Poland wins with 0.61\n",
      "Poland vs. Colombia: Draw with 0.53758\n",
      "Poland vs. Japan: Poland wins with 0.76\n",
      "Senegal vs. Colombia: Colombia wins with 0.66\n",
      "Senegal vs. Japan: Senegal wins with 0.60\n",
      "Colombia vs. Japan: Colombia wins with 0.68\n",
      "___Starting group B:___\n",
      "Portugal vs. Spain: Draw with 0.46422\n",
      "Portugal vs. Morocco: Portugal wins with 0.67\n",
      "Portugal vs. Iran: Portugal wins with 0.63\n",
      "Spain vs. Morocco: Spain wins with 0.64\n",
      "Spain vs. Iran: Spain wins with 0.61\n",
      "Morocco vs. Iran: Iran wins with 1.00\n",
      "___Starting group F:___\n",
      "Germany vs. Mexico: Mexico wins with 1.00\n",
      "Germany vs. Sweden: Germany wins with 0.57\n",
      "Germany vs. Korea Republic: Germany wins with 0.74\n",
      "Mexico vs. Sweden: Draw with 0.46422\n",
      "Mexico vs. Korea Republic: Mexico wins with 0.67\n",
      "Sweden vs. Korea Republic: Sweden wins with 0.68\n",
      "___Starting group E:___\n",
      "Brazil vs. Switzerland: Draw with 0.46422\n",
      "Brazil vs. Costa Rica: Draw with 0.548495\n",
      "Brazil vs. Serbia: Brazil wins with 0.60\n",
      "Switzerland vs. Costa Rica: Switzerland wins with 0.60\n",
      "Switzerland vs. Serbia: Switzerland wins with 0.65\n",
      "Costa Rica vs. Serbia: Serbia wins with 1.00\n"
     ]
    }
   ],
   "source": [
    "from itertools import combinations\n",
    "\n",
    "opponents = ['First match \\nagainst', 'Second match\\n against', 'Third match\\n against']\n",
    "\n",
    "world_cup['points'] = 0\n",
    "world_cup['total_prob'] = 0\n",
    "\n",
    "def create_match(home, away):\n",
    "    row = pd.DataFrame(np.array([[np.nan, np.nan, np.nan, True, np.nan, np.nan]]), columns=X.columns)\n",
    "    home_rank = world_cup_rankings.loc[home, 'rank']\n",
    "    home_points = world_cup_rankings.loc[home, 'weighted_points']\n",
    "    opp_rank = world_cup_rankings.loc[away, 'rank']\n",
    "    opp_points = world_cup_rankings.loc[away, 'weighted_points']\n",
    "    row['average_rank'] = (home_rank + opp_rank) / 2\n",
    "    row['rank_difference'] = home_rank - opp_rank\n",
    "    row['point_difference'] = home_points - opp_points\n",
    "\n",
    "    home_temp = temperatures[temperatures['Country'] == home]['AverageTemperature'].values\n",
    "    if len(home_temp) > 0:\n",
    "        row['temperature_difference_home'] = russia_temp - home_temp[0]\n",
    "\n",
    "    away_temp = temperatures[temperatures['Country'] == away]['AverageTemperature'].values\n",
    "    if len(away_temp) > 0:\n",
    "        row['temperature_difference_away'] = russia_temp - away_temp[0]\n",
    "        \n",
    "    return row\n",
    "\n",
    "for group in set(world_cup['Group']):\n",
    "    print('___Starting group {}:___'.format(group))\n",
    "    for home, away in combinations(world_cup.query('Group == \"{}\"'.format(group)).index, 2):\n",
    "        print(\"{} vs. {}: \".format(home, away), end='')\n",
    "        row = create_match(home, away)\n",
    "            \n",
    "        known_result = known_results.get(home + '-' + away, None)\n",
    "        if (known_result == home):\n",
    "            home_win_prob = 1\n",
    "        elif (known_result == away):\n",
    "            home_win_prob = 0\n",
    "        elif (known_result == 'Draw'):\n",
    "            home_win_prob = 0.5\n",
    "        else:\n",
    "            home_win_prob = model.predict(prepare_X_for_keras(row))[:,1][0]\n",
    "        world_cup.loc[home, 'total_prob'] += home_win_prob\n",
    "        world_cup.loc[away, 'total_prob'] += 1-home_win_prob\n",
    "        \n",
    "        points = 0\n",
    "        if home_win_prob <= 0.5 - margin:\n",
    "            print(\"{} wins with {:.2f}\".format(away, 1-home_win_prob))\n",
    "            world_cup.loc[away, 'points'] += 3\n",
    "        if home_win_prob > 0.5 - margin:\n",
    "            points = 1\n",
    "        if home_win_prob >= 0.5 + margin:\n",
    "            points = 3\n",
    "            world_cup.loc[home, 'points'] += 3\n",
    "            print(\"{} wins with {:.2f}\".format(home, home_win_prob))\n",
    "        if points == 1:\n",
    "            print(\"Draw with\", home_win_prob)\n",
    "            world_cup.loc[home, 'points'] += 1\n",
    "            world_cup.loc[away, 'points'] += 1"
   ]
  },
  {
   "cell_type": "markdown",
   "metadata": {
    "_uuid": "b2c787fd8541c281f736a4c6b698839f565ac1b8"
   },
   "source": [
    "## Single-elimination rounds"
   ]
  },
  {
   "cell_type": "code",
   "execution_count": 23,
   "metadata": {
    "_uuid": "2eb8426dfc5e4fdd985e8109179e34dac2e9c976"
   },
   "outputs": [
    {
     "name": "stdout",
     "output_type": "stream",
     "text": [
      "___Starting of the round_of_16___\n",
      "Uruguay vs. Portugal: Portugal wins with probability 0.76\n",
      "Denmark vs. Croatia: Croatia wins with probability 0.60\n",
      "Switzerland vs. Germany: Germany wins with probability 0.76\n",
      "England vs. Colombia: Colombia wins with probability 0.53\n",
      "Russia vs. Spain: Spain wins with probability 0.76\n",
      "France vs. Argentina: Argentina wins with probability 0.67\n",
      "Brazil vs. Mexico: Mexico wins with probability 0.54\n",
      "Belgium vs. Poland: Poland wins with probability 0.54\n",
      "\n",
      "\n",
      "___Starting of the quarterfinal___\n",
      "Portugal vs. Croatia: Portugal wins with probability 0.51\n",
      "Germany vs. Colombia: Germany wins with probability 0.53\n",
      "Spain vs. Argentina: Argentina wins with probability 0.63\n",
      "Mexico vs. Poland: Poland wins with probability 0.55\n",
      "\n",
      "\n",
      "___Starting of the semifinal___\n",
      "Portugal vs. Germany: Germany wins with probability 0.76\n",
      "Argentina vs. Poland: Poland wins with probability 0.54\n",
      "\n",
      "\n",
      "___Starting of the final___\n",
      "Germany vs. Poland: Poland wins with probability 0.54\n",
      "\n",
      "\n"
     ]
    }
   ],
   "source": [
    "pairing = [0,3,4,7,8,11,12,15,1,2,5,6,9,10,13,14]\n",
    "\n",
    "world_cup = world_cup.sort_values(by=['Group', 'points', 'total_prob'], ascending=False).reset_index()\n",
    "next_round_wc = world_cup.groupby('Group').nth([0, 1]) # select the top 2\n",
    "next_round_wc = next_round_wc.reset_index()\n",
    "next_round_wc = next_round_wc.loc[pairing]\n",
    "next_round_wc = next_round_wc.set_index('Team')\n",
    "\n",
    "finals = ['round_of_16', 'quarterfinal', 'semifinal', 'final']\n",
    "\n",
    "labels = list()\n",
    "odds = list()\n",
    "\n",
    "for f in finals:\n",
    "    print(\"___Starting of the {}___\".format(f))\n",
    "    iterations = int(len(next_round_wc) / 2)\n",
    "    winners = []\n",
    "\n",
    "    for i in range(iterations):\n",
    "        home = next_round_wc.index[i*2]\n",
    "        away = next_round_wc.index[i*2+1]\n",
    "        print(\"{} vs. {}: \".format(home,\n",
    "                                   away), \n",
    "                                   end='')\n",
    "        row = create_match(home, away)\n",
    "\n",
    "        home_win_prob = model.predict(prepare_X_for_keras(row))[:,1][0]\n",
    "        if home_win_prob <= 0.5:\n",
    "            print(\"{0} wins with probability {1:.2f}\".format(away, 1-home_win_prob))\n",
    "            winners.append(away)\n",
    "        else:\n",
    "            print(\"{0} wins with probability {1:.2f}\".format(home, home_win_prob))\n",
    "            winners.append(home)\n",
    "\n",
    "        labels.append(\"{}({:.2f}) vs. {}({:.2f})\".format(world_cup_rankings.loc[home, 'country_abrv'], \n",
    "                                                        1/home_win_prob, \n",
    "                                                        world_cup_rankings.loc[away, 'country_abrv'], \n",
    "                                                        1/(1-home_win_prob)))\n",
    "        odds.append([home_win_prob, 1-home_win_prob])\n",
    "                \n",
    "    next_round_wc = next_round_wc.loc[winners]\n",
    "    print(\"\\n\")"
   ]
  },
  {
   "cell_type": "markdown",
   "metadata": {
    "_uuid": "19a4df1e098b4e9fc647c28b5f9a9b06448fd8eb"
   },
   "source": [
    "# Let's see a visualization "
   ]
  },
  {
   "cell_type": "code",
   "execution_count": 24,
   "metadata": {
    "_uuid": "8d5f7d249feb7e4d83a659686a2b4cfe96c63d0b",
    "scrolled": false
   },
   "outputs": [
    {
     "name": "stderr",
     "output_type": "stream",
     "text": [
      "/usr/local/lib/python3.6/site-packages/networkx/drawing/nx_pylab.py:126: MatplotlibDeprecationWarning: pyplot.hold is deprecated.\n",
      "    Future behavior will be consistent with the long-time default:\n",
      "    plot commands add elements without first clearing the\n",
      "    Axes and/or Figure.\n",
      "  b = plt.ishold()\n",
      "/usr/local/lib/python3.6/site-packages/networkx/drawing/nx_pylab.py:138: MatplotlibDeprecationWarning: pyplot.hold is deprecated.\n",
      "    Future behavior will be consistent with the long-time default:\n",
      "    plot commands add elements without first clearing the\n",
      "    Axes and/or Figure.\n",
      "  plt.hold(b)\n",
      "/usr/local/lib/python3.6/site-packages/matplotlib/__init__.py:917: UserWarning: axes.hold is deprecated. Please remove it from your matplotlibrc and/or style files.\n",
      "  warnings.warn(self.msg_depr_set % key)\n",
      "/usr/local/lib/python3.6/site-packages/matplotlib/rcsetup.py:152: UserWarning: axes.hold is deprecated, will be removed in 3.0\n",
      "  warnings.warn(\"axes.hold is deprecated, will be removed in 3.0\")\n"
     ]
    },
    {
     "data": {
      "image/png": "[encoded data removed]",
      "text/plain": [
       "<matplotlib.figure.Figure at 0x1189fde80>"
      ]
     },
     "metadata": {},
     "output_type": "display_data"
    }
   ],
   "source": [
    "import networkx as nx\n",
    "import pydot\n",
    "from networkx.drawing.nx_pydot import graphviz_layout\n",
    "\n",
    "node_sizes = pd.DataFrame(list(reversed(odds)))\n",
    "scale_factor = 0.3 # for visualization\n",
    "G = nx.balanced_tree(2, 3)\n",
    "pos = graphviz_layout(G, prog='twopi', args='')\n",
    "centre = pd.DataFrame(pos).mean(axis=1).mean()\n",
    "\n",
    "plt.figure(figsize=(10, 10))\n",
    "ax = plt.subplot(1,1,1)\n",
    "# add circles \n",
    "circle_positions = [(235, 'black'), (180, 'blue'), (120, 'red'), (60, 'yellow')]\n",
    "[ax.add_artist(plt.Circle((centre, centre), \n",
    "                          cp, color='grey', \n",
    "                          alpha=0.2)) for cp, c in circle_positions]\n",
    "\n",
    "# draw first the graph\n",
    "nx.draw(G, pos, \n",
    "        node_color=node_sizes.diff(axis=1)[1].abs().pow(scale_factor), \n",
    "        node_size=node_sizes.diff(axis=1)[1].abs().pow(scale_factor)*2000, \n",
    "        alpha=1, \n",
    "        cmap='Reds',\n",
    "        edge_color='black',\n",
    "        width=10,\n",
    "        with_labels=False)\n",
    "\n",
    "# draw the custom node labels\n",
    "shifted_pos = {k:[(v[0]-centre)*0.9+centre,(v[1]-centre)*0.9+centre] for k,v in pos.items()}\n",
    "nx.draw_networkx_labels(G, \n",
    "                        pos=shifted_pos, \n",
    "                        bbox=dict(boxstyle=\"round,pad=0.3\", fc=\"white\", ec=\"black\", lw=.5, alpha=1),\n",
    "                        labels=dict(zip(reversed(range(len(labels))), labels)))\n",
    "\n",
    "texts = ((10, 'Best 16', 'black'), (70, 'Quarter-\\nfinal', 'blue'), (130, 'Semifinal', 'red'), (190, 'Final', 'yellow'))\n",
    "[plt.text(p, centre+20, t, \n",
    "          fontsize=12, color='grey', \n",
    "          va='center', ha='center') for p,t,c in texts]\n",
    "plt.axis('equal')\n",
    "plt.title('Single-elimination phase\\npredictions with fair odds', fontsize=20)\n",
    "plt.show()"
   ]
  },
  {
   "cell_type": "markdown",
   "metadata": {
    "_uuid": "a0d13d51d8a19ff066d92296cff7361a24b703b3",
    "collapsed": true
   },
   "source": [
    "Fin"
   ]
  },
  {
   "cell_type": "code",
   "execution_count": null,
   "metadata": {
    "_uuid": "bab22501ec001b665a0a0f61d2c91216d48fe8b6",
    "collapsed": true
   },
   "outputs": [],
   "source": []
  }
 ],
 "metadata": {
  "kernelspec": {
   "display_name": "Python 3",
   "language": "python",
   "name": "python3"
  },
  "language_info": {
   "codemirror_mode": {
    "name": "ipython",
    "version": 3
   },
   "file_extension": ".py",
   "mimetype": "text/x-python",
   "name": "python",
   "nbconvert_exporter": "python",
   "pygments_lexer": "ipython3",
   "version": "3.6.5"
  }
 },
 "nbformat": 4,
 "nbformat_minor": 1
}
